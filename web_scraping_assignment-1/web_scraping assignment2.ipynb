{
 "cells": [
  {
   "cell_type": "code",
   "execution_count": 1,
   "id": "90d9befd",
   "metadata": {},
   "outputs": [],
   "source": [
    "from bs4 import BeautifulSoup\n",
    "import requests"
   ]
  },
  {
   "cell_type": "code",
   "execution_count": 2,
   "id": "69b937bc",
   "metadata": {},
   "outputs": [
    {
     "data": {
      "text/plain": [
       "<Response [200]>"
      ]
     },
     "execution_count": 2,
     "metadata": {},
     "output_type": "execute_result"
    }
   ],
   "source": [
    "#question no. 7\n",
    "page = requests.get('https://www.cnbc.com/world/?region=world')\n",
    "page"
   ]
  },
  {
   "cell_type": "code",
   "execution_count": 4,
   "id": "ee56aacc",
   "metadata": {},
   "outputs": [],
   "source": [
    "soup = BeautifulSoup(page.content)"
   ]
  },
  {
   "cell_type": "code",
   "execution_count": 7,
   "id": "76b53eb0",
   "metadata": {},
   "outputs": [
    {
     "data": {
      "text/plain": [
       "['Musk plans Twitter content moderation council as questions about Trump return loom',\n",
       " 'Why Bryan Cranston, Aaron Paul work 17-hour days promoting the Dos Hombres brand',\n",
       " 'What to watch in the markets in the week ahead',\n",
       " 'FDA says two studies on omicron boosters were too small to reach conclusions',\n",
       " 'A roundup of 8 price target changes in Club stocks after earnings',\n",
       " 'Analysts think the biggest stock winners this week are set to cool off — except two',\n",
       " 'Major tech ETFs saw big inflows this week as investors look to buy the dip',\n",
       " 'This analyst says Amazon’s dismal forecast signals a recession is underway',\n",
       " 'Inflation has caused 54% of adults to stop or reduce retirement savings: Study',\n",
       " \"Elon Musk's first day owning Twitter leads to havoc and a possible hoax about layoffs\",\n",
       " \"Breaking down October's big stock bounce\",\n",
       " 'TreasuryDirect crashes as investors try to beat key Series I bond deadline',\n",
       " 'Stocks making the biggest moves midday: Apple, Amazon, Intel and more',\n",
       " 'Paul Pelosi suspect to be charged with attempted homicide for hammer attack: cops',\n",
       " 'Inflation bonds have surged in popularity amid a flight to safety. Why they may also be a good opportunity for younger investors',\n",
       " 'Multiple revenue misses in one of our winners convinced us to take profits',\n",
       " 'This new bull market could rally in November, says the Stock Trader’s Almanac',\n",
       " \"Truth Social merger partner's shares rise after Musk Twitter deal\",\n",
       " '3 takeaways from our daily meeting: Looking for stocks, 2 trades, earnings recap',\n",
       " 'Bank of America says 250 years of history point to turnaround for Treasury bonds',\n",
       " 'Apple stock closes out its best day since 2020',\n",
       " 'Honeywell CEO is preparing businesses for a tougher 2023, but remains optimistic',\n",
       " 'Tom Brady and Gisele Bundchen announce divorce after 13 years of marriage',\n",
       " 'GoodRx CEO: This simple weekly routine can build stronger relationships at work',\n",
       " 'Lawmakers urge tech CEOs to do more to help Iranian protesters avoid censorship',\n",
       " \"We're exiting a drug stock for a nice gain and putting money to work elsewhere\",\n",
       " 'Some TikTok users are receiving $167 checks over data privacy violations',\n",
       " 'Foods that boost your immune system: 4 nutritionists share what they eat during the cold season',\n",
       " \"Help! My friend won't stop complaining about work\",\n",
       " \"Trump says Twitter, which banned him, 'is now in sane hands' of Elon Musk\"]"
      ]
     },
     "execution_count": 7,
     "metadata": {},
     "output_type": "execute_result"
    }
   ],
   "source": [
    "#headlines scraping\n",
    "headlines=[]\n",
    "for i in soup.find_all('a', class_=\"LatestNews-headline\"):\n",
    "    headlines.append(i.text)\n",
    "    \n",
    "headlines"
   ]
  },
  {
   "cell_type": "code",
   "execution_count": 8,
   "id": "4fd47587",
   "metadata": {},
   "outputs": [
    {
     "name": "stdout",
     "output_type": "stream",
     "text": [
      "30\n"
     ]
    }
   ],
   "source": [
    "print(len(headlines))"
   ]
  },
  {
   "cell_type": "code",
   "execution_count": 10,
   "id": "ea9133f7",
   "metadata": {},
   "outputs": [
    {
     "data": {
      "text/plain": [
       "['13 Min Ago',\n",
       " '15 Min Ago',\n",
       " '1 Hour Ago',\n",
       " '1 Hour Ago',\n",
       " '1 Hour Ago',\n",
       " '2 Hours Ago',\n",
       " '2 Hours Ago',\n",
       " '2 Hours Ago',\n",
       " '2 Hours Ago',\n",
       " '2 Hours Ago',\n",
       " '3 Hours Ago',\n",
       " '3 Hours Ago',\n",
       " '3 Hours Ago',\n",
       " '3 Hours Ago',\n",
       " '3 Hours Ago',\n",
       " '3 Hours Ago',\n",
       " '4 Hours Ago',\n",
       " '4 Hours Ago',\n",
       " '4 Hours Ago',\n",
       " '4 Hours Ago',\n",
       " '4 Hours Ago',\n",
       " '4 Hours Ago',\n",
       " '4 Hours Ago',\n",
       " '4 Hours Ago',\n",
       " '4 Hours Ago',\n",
       " '5 Hours Ago',\n",
       " '5 Hours Ago',\n",
       " '5 Hours Ago',\n",
       " '6 Hours Ago',\n",
       " '6 Hours Ago']"
      ]
     },
     "execution_count": 10,
     "metadata": {},
     "output_type": "execute_result"
    }
   ],
   "source": [
    "#time scraping\n",
    "timing=[]\n",
    "for i in soup.find_all('time', class_=\"LatestNews-timestamp\"):\n",
    "    timing.append(i.text)\n",
    "    \n",
    "timing"
   ]
  },
  {
   "cell_type": "code",
   "execution_count": 11,
   "id": "aa2fbe8d",
   "metadata": {},
   "outputs": [
    {
     "data": {
      "text/plain": [
       "30"
      ]
     },
     "execution_count": 11,
     "metadata": {},
     "output_type": "execute_result"
    }
   ],
   "source": [
    "len(timing)"
   ]
  },
  {
   "cell_type": "code",
   "execution_count": 14,
   "id": "ef1bffaa",
   "metadata": {},
   "outputs": [
    {
     "data": {
      "text/plain": [
       "['https://www.cnbc.com/2022/10/28/musk-plans-twitter-content-moderation-council-as-questions-about-trump-return-loom.html',\n",
       " 'https://www.cnbc.com/2022/10/28/bryan-cranston-and-aaron-paul-dos-hombres-interview.html',\n",
       " 'https://www.cnbc.com/2022/10/28/the-fed-could-lay-the-groundwork-for-a-year-end-rally-in-the-week-ahead.html',\n",
       " 'https://www.cnbc.com/2022/10/28/fda-says-two-studies-showing-omicron-boosters-werent-much-better-than-old-shots-were-too-small-to-come-to-any-conclusions.html',\n",
       " 'https://www.cnbc.com/2022/10/28/heres-a-round-up-of-8-price-target-changes-we-made-in-club-stocks.html',\n",
       " 'https://www.cnbc.com/2022/10/28/analysts-think-the-biggest-stock-winners-this-week-are-set-to-cool-off-except-two.html',\n",
       " 'https://www.cnbc.com/2022/10/28/major-tech-etfs-saw-big-inflows-this-week-as-investors-look-to-buy-the-dip-from-rough-earnings.html',\n",
       " 'https://www.cnbc.com/2022/10/28/amazons-forecast-signals-a-recession-is-already-underway-bank-of-america-says.html',\n",
       " 'https://www.cnbc.com/2022/10/28/inflation-causes-54percent-of-adults-trimming-or-stopping-retirement-savings.html',\n",
       " 'https://www.cnbc.com/2022/10/28/musk-first-day-owning-twitter-leads-to-havoc-and-possible-hoax-.html',\n",
       " 'https://www.cnbc.com/2022/10/28/breaking-down-octobers-big-stock-bounce-and-why-the-market-didnt-need-big-tech-to-do-it.html',\n",
       " 'https://www.cnbc.com/2022/10/28/treasurydirect-crashes-as-investors-try-to-beat-key-i-bond-deadline.html',\n",
       " 'https://www.cnbc.com/2022/10/28/stocks-making-the-biggest-moves-midday-apple-amazon-intel-and-more.html',\n",
       " 'https://www.cnbc.com/2022/10/28/watch-police-detail-attack-on-speaker-nancy-pelosis-husband.html',\n",
       " 'https://www.cnbc.com/2022/10/28/why-inflation-savings-bonds-may-be-a-good-opportunity-for-young-investors.html',\n",
       " 'https://www.cnbc.com/2022/10/28/multiple-revenue-misses-in-one-of-our-winners-convinced-us-to-take-profits-and-get-out.html',\n",
       " 'https://www.cnbc.com/2022/10/28/this-is-a-new-bull-market-that-should-rally-further-in-november-according-to-the-stock-traders-almanac.html',\n",
       " 'https://www.cnbc.com/2022/10/28/truth-social-merger-partner-stock-falls-after-trump-lauds-elon-musk-twitter-deal.html',\n",
       " 'https://www.cnbc.com/2022/10/28/takeaways-from-our-daily-meeting-new-stocks-2-trades-earnings-recap.html',\n",
       " 'https://www.cnbc.com/2022/10/28/bank-of-america-says-250-years-of-history-point-to-turnaround-for-treasury-bonds.html',\n",
       " 'https://www.cnbc.com/2022/10/28/apple-stock-surges-on-pace-for-its-best-day-since-2020.html',\n",
       " 'https://www.cnbc.com/2022/10/28/honeywell-ceo-is-wisely-preparing-businesses-for-a-tougher-2023-but-remains-optimistic.html',\n",
       " 'https://www.cnbc.com/2022/10/28/tom-brady-and-gisele-bundchen-announce-divorce-after-13-years-of-marriage.html',\n",
       " 'https://www.cnbc.com/2022/10/28/goodrx-ceo-doug-hirsch-simple-routine-to-build-stronger-relationships.html',\n",
       " 'https://www.cnbc.com/2022/10/28/lawmakers-urge-tech-ceos-to-do-more-to-help-iranian-protesters.html',\n",
       " 'https://www.cnbc.com/2022/10/28/were-exiting-a-drug-stock-for-a-nice-gain-and-putting-some-of-that-money-to-work-elsewhere.html',\n",
       " 'https://www.cnbc.com/2022/10/28/tiktok-users-paid-over-privacy-violations-google-snap-could-be-next.html',\n",
       " 'https://www.cnbc.com/2022/10/28/foods-to-boost-your-immune-nutritionists-dietitians-share-favorite-winter-recipes.html',\n",
       " 'https://www.cnbc.com/2022/10/28/make-it-work-advice-help-my-friend-wont-stop-complaining-about-work.html',\n",
       " 'https://www.cnbc.com/2022/10/28/trump-says-twitter-is-now-in-sane-hands-with-musk.html']"
      ]
     },
     "execution_count": 14,
     "metadata": {},
     "output_type": "execute_result"
    }
   ],
   "source": [
    "#news link scraping\n",
    "links = []\n",
    "for link in soup.find_all('a', class_=\"LatestNews-headline\"):\n",
    "    links.append(link.get('href'))\n",
    "links"
   ]
  },
  {
   "cell_type": "code",
   "execution_count": 15,
   "id": "cac5d17d",
   "metadata": {},
   "outputs": [
    {
     "data": {
      "text/plain": [
       "30"
      ]
     },
     "execution_count": 15,
     "metadata": {},
     "output_type": "execute_result"
    }
   ],
   "source": [
    "len(links)"
   ]
  },
  {
   "cell_type": "code",
   "execution_count": 16,
   "id": "68c9ce75",
   "metadata": {},
   "outputs": [
    {
     "data": {
      "text/plain": [
       "<Response [200]>"
      ]
     },
     "execution_count": 16,
     "metadata": {},
     "output_type": "execute_result"
    }
   ],
   "source": [
    "#question no. 8\n",
    "page1 = requests.get('https://www.journals.elsevier.com/artificial-intelligence/most-downloaded-articles')\n",
    "page1"
   ]
  },
  {
   "cell_type": "code",
   "execution_count": 17,
   "id": "f8be91d4",
   "metadata": {},
   "outputs": [],
   "source": [
    "soup1 = BeautifulSoup(page1.content)"
   ]
  },
  {
   "cell_type": "code",
   "execution_count": 19,
   "id": "2950ca79",
   "metadata": {},
   "outputs": [
    {
     "data": {
      "text/plain": [
       "['Reward is enough',\n",
       " 'Making sense of raw input',\n",
       " 'Law and logic: A review from an argumentation perspective',\n",
       " 'Creativity and artificial intelligence',\n",
       " 'Artificial cognition for social human–robot interaction: An implementation',\n",
       " 'Explanation in artificial intelligence: Insights from the social sciences',\n",
       " 'Making sense of sensory input',\n",
       " 'Conflict-based search for optimal multi-agent pathfinding',\n",
       " 'Between MDPs and semi-MDPs: A framework for temporal abstraction in reinforcement learning',\n",
       " 'The Hanabi challenge: A new frontier for AI research',\n",
       " 'Evaluating XAI: A comparison of rule-based and example-based explanations',\n",
       " 'Argumentation in artificial intelligence',\n",
       " 'Algorithms for computing strategies in two-player simultaneous move games',\n",
       " 'Multiple object tracking: A literature review',\n",
       " 'Selection of relevant features and examples in machine learning',\n",
       " 'A survey of inverse reinforcement learning: Challenges, methods and progress',\n",
       " 'Explaining individual predictions when features are dependent: More accurate approximations to Shapley values',\n",
       " 'A review of possible effects of cognitive biases on interpretation of rule-based machine learning models',\n",
       " 'Integrating social power into the decision-making of cognitive agents',\n",
       " \"“That's (not) the output I expected!” On the role of end user expectations in creating explanations of AI systems\",\n",
       " 'Explaining black-box classifiers using post-hoc explanations-by-example: The effect of explanations and error-rates in XAI user studies',\n",
       " 'Algorithm runtime prediction: Methods & evaluation',\n",
       " 'Wrappers for feature subset selection',\n",
       " 'Commonsense visual sensemaking for autonomous driving – On generalised neurosymbolic online abduction integrating vision and semantics',\n",
       " 'Quantum computation, quantum theory and AI']"
      ]
     },
     "execution_count": 19,
     "metadata": {},
     "output_type": "execute_result"
    }
   ],
   "source": [
    "#Titles scraping\n",
    "titles=[]\n",
    "for i in soup1.find_all('h2', class_=\"sc-1qrq3sd-1 MKjKb sc-1nmom32-0 sc-1nmom32-1 hqhUYH ebTA-dR\"):\n",
    "    titles.append(i.text)\n",
    "    \n",
    "titles"
   ]
  },
  {
   "cell_type": "code",
   "execution_count": 20,
   "id": "31e93215",
   "metadata": {},
   "outputs": [
    {
     "data": {
      "text/plain": [
       "25"
      ]
     },
     "execution_count": 20,
     "metadata": {},
     "output_type": "execute_result"
    }
   ],
   "source": [
    "len(titles)"
   ]
  },
  {
   "cell_type": "code",
   "execution_count": 22,
   "id": "9b2254de",
   "metadata": {},
   "outputs": [
    {
     "data": {
      "text/plain": [
       "['Silver, David, Singh, Satinder, Precup, Doina, Sutton, Richard S. ',\n",
       " 'Evans, Richard, Bošnjak, Matko and 5 more',\n",
       " 'Prakken, Henry, Sartor, Giovanni ',\n",
       " 'Boden, Margaret A. ',\n",
       " 'Lemaignan, Séverin, Warnier, Mathieu and 3 more',\n",
       " 'Miller, Tim ',\n",
       " 'Evans, Richard, Hernández-Orallo, José and 3 more',\n",
       " 'Sharon, Guni, Stern, Roni, Felner, Ariel, Sturtevant, Nathan R. ',\n",
       " 'Sutton, Richard S., Precup, Doina, Singh, Satinder ',\n",
       " 'Bard, Nolan, Foerster, Jakob N. and 13 more',\n",
       " 'van der Waa, Jasper, Nieuwburg, Elisabeth, Cremers, Anita, Neerincx, Mark ',\n",
       " 'Bench-Capon, T.J.M., Dunne, Paul E. ',\n",
       " 'Bošanský, Branislav, Lisý, Viliam and 3 more',\n",
       " 'Luo, Wenhan, Xing, Junliang and 4 more',\n",
       " 'Blum, Avrim L., Langley, Pat ',\n",
       " 'Arora, Saurabh, Doshi, Prashant ',\n",
       " 'Aas, Kjersti, Jullum, Martin, Løland, Anders ',\n",
       " 'Kliegr, Tomáš, Bahník, Štěpán, Fürnkranz, Johannes ',\n",
       " 'Pereira, Gonçalo, Prada, Rui, Santos, Pedro A. ',\n",
       " 'Riveiro, Maria, Thill, Serge ',\n",
       " 'Kenny, Eoin M., Ford, Courtney, Quinn, Molly, Keane, Mark T. ',\n",
       " 'Hutter, Frank, Xu, Lin, Hoos, Holger H., Leyton-Brown, Kevin ',\n",
       " 'Kohavi, Ron, John, George H. ',\n",
       " 'Suchan, Jakob, Bhatt, Mehul, Varadarajan, Srikrishna ',\n",
       " 'Ying, Mingsheng ']"
      ]
     },
     "execution_count": 22,
     "metadata": {},
     "output_type": "execute_result"
    }
   ],
   "source": [
    "#Authors scraping\n",
    "authors=[]\n",
    "for i in soup1.find_all('span', class_=\"sc-1w3fpd7-0 pgLAT\"):\n",
    "    authors.append(i.text)\n",
    "    \n",
    "authors"
   ]
  },
  {
   "cell_type": "code",
   "execution_count": 23,
   "id": "61ed86e9",
   "metadata": {},
   "outputs": [
    {
     "data": {
      "text/plain": [
       "25"
      ]
     },
     "execution_count": 23,
     "metadata": {},
     "output_type": "execute_result"
    }
   ],
   "source": [
    "len(authors)"
   ]
  },
  {
   "cell_type": "code",
   "execution_count": 27,
   "id": "97ced392",
   "metadata": {},
   "outputs": [
    {
     "data": {
      "text/plain": [
       "['October 2021',\n",
       " 'October 2021',\n",
       " 'October 2015',\n",
       " 'August 1998',\n",
       " 'June 2017',\n",
       " 'February 2019',\n",
       " 'April 2021',\n",
       " 'February 2015',\n",
       " 'August 1999',\n",
       " 'March 2020',\n",
       " 'February 2021',\n",
       " 'October 2007',\n",
       " 'August 2016',\n",
       " 'April 2021',\n",
       " 'December 1997',\n",
       " 'August 2021',\n",
       " 'September 2021',\n",
       " 'June 2021',\n",
       " 'December 2016',\n",
       " 'September 2021',\n",
       " 'May 2021',\n",
       " 'January 2014',\n",
       " 'December 1997',\n",
       " 'October 2021',\n",
       " 'February 2010']"
      ]
     },
     "execution_count": 27,
     "metadata": {},
     "output_type": "execute_result"
    }
   ],
   "source": [
    "#Published dates scraping\n",
    "dates=[]\n",
    "for i in  soup1.find_all('span', class_=\"sc-1thf9ly-2 bKddwo\"):\n",
    "    dates.append(i.text)\n",
    "    \n",
    "dates"
   ]
  },
  {
   "cell_type": "code",
   "execution_count": 29,
   "id": "945eceb3",
   "metadata": {},
   "outputs": [
    {
     "data": {
      "text/plain": [
       "25"
      ]
     },
     "execution_count": 29,
     "metadata": {},
     "output_type": "execute_result"
    }
   ],
   "source": [
    "len(dates)"
   ]
  },
  {
   "cell_type": "code",
   "execution_count": 31,
   "id": "1ed213e8",
   "metadata": {},
   "outputs": [
    {
     "data": {
      "text/plain": [
       "['https://www.sciencedirect.com/science/article/pii/S0004370221000862',\n",
       " 'https://www.sciencedirect.com/science/article/pii/S0004370221000722',\n",
       " 'https://www.sciencedirect.com/science/article/pii/S0004370215000910',\n",
       " 'https://www.sciencedirect.com/science/article/pii/S0004370298000551',\n",
       " 'https://www.sciencedirect.com/science/article/pii/S0004370216300790',\n",
       " 'https://www.sciencedirect.com/science/article/pii/S0004370218305988',\n",
       " 'https://www.sciencedirect.com/science/article/pii/S0004370220301855',\n",
       " 'https://www.sciencedirect.com/science/article/pii/S0004370214001386',\n",
       " 'https://www.sciencedirect.com/science/article/pii/S0004370299000521',\n",
       " 'https://www.sciencedirect.com/science/article/pii/S0004370219300116',\n",
       " 'https://www.sciencedirect.com/science/article/pii/S0004370220301533',\n",
       " 'https://www.sciencedirect.com/science/article/pii/S0004370207000793',\n",
       " 'https://www.sciencedirect.com/science/article/pii/S0004370216300285',\n",
       " 'https://www.sciencedirect.com/science/article/pii/S0004370220301958',\n",
       " 'https://www.sciencedirect.com/science/article/pii/S0004370297000635',\n",
       " 'https://www.sciencedirect.com/science/article/pii/S0004370221000515',\n",
       " 'https://www.sciencedirect.com/science/article/pii/S0004370221000539',\n",
       " 'https://www.sciencedirect.com/science/article/pii/S0004370221000096',\n",
       " 'https://www.sciencedirect.com/science/article/pii/S0004370216300868',\n",
       " 'https://www.sciencedirect.com/science/article/pii/S0004370221000588',\n",
       " 'https://www.sciencedirect.com/science/article/pii/S0004370221000102',\n",
       " 'https://www.sciencedirect.com/science/article/pii/S0004370213001082',\n",
       " 'https://www.sciencedirect.com/science/article/pii/S000437029700043X',\n",
       " 'https://www.sciencedirect.com/science/article/pii/S0004370221000734',\n",
       " 'https://www.sciencedirect.com/science/article/pii/S0004370209001398']"
      ]
     },
     "execution_count": 31,
     "metadata": {},
     "output_type": "execute_result"
    }
   ],
   "source": [
    "#paper url scraping\n",
    "urls=[]\n",
    "for i in soup1.find_all('a', class_=\"sc-5smygv-0 nrDZj\"):\n",
    "    urls.append(i.get('href'))\n",
    "    \n",
    "urls"
   ]
  },
  {
   "cell_type": "code",
   "execution_count": 32,
   "id": "16ba4705",
   "metadata": {},
   "outputs": [
    {
     "data": {
      "text/plain": [
       "25"
      ]
     },
     "execution_count": 32,
     "metadata": {},
     "output_type": "execute_result"
    }
   ],
   "source": [
    "len(urls)"
   ]
  },
  {
   "cell_type": "code",
   "execution_count": 33,
   "id": "dfabcfee",
   "metadata": {},
   "outputs": [
    {
     "data": {
      "text/plain": [
       "<Response [200]>"
      ]
     },
     "execution_count": 33,
     "metadata": {},
     "output_type": "execute_result"
    }
   ],
   "source": [
    "#question no.9\n",
    "page2 = requests.get('https://www.dineout.co.in/delhi-restaurants/buffet-special')\n",
    "page2"
   ]
  },
  {
   "cell_type": "code",
   "execution_count": 35,
   "id": "2b84ba68",
   "metadata": {},
   "outputs": [],
   "source": [
    "soup2 = BeautifulSoup(page2.content)"
   ]
  },
  {
   "cell_type": "code",
   "execution_count": 37,
   "id": "095b8941",
   "metadata": {},
   "outputs": [
    {
     "data": {
      "text/plain": [
       "['Castle Barbeque',\n",
       " 'Jungle Jamboree',\n",
       " 'Castle Barbeque',\n",
       " 'Cafe Knosh',\n",
       " 'The Barbeque Company',\n",
       " 'India Grill',\n",
       " 'Delhi Barbeque',\n",
       " 'The Monarch - Bar Be Que Village',\n",
       " 'Indian Grill Room']"
      ]
     },
     "execution_count": 37,
     "metadata": {},
     "output_type": "execute_result"
    }
   ],
   "source": [
    "#restaurant names scraping\n",
    "rst_name=[]\n",
    "for i in soup2.find_all('a', class_=\"restnt-name ellipsis\"):\n",
    "    rst_name.append(i.text)\n",
    "    \n",
    "rst_name"
   ]
  },
  {
   "cell_type": "code",
   "execution_count": 43,
   "id": "bd752442",
   "metadata": {},
   "outputs": [
    {
     "data": {
      "text/plain": [
       "[' Chinese, North Indian',\n",
       " ' North Indian, Asian, Italian',\n",
       " ' Chinese, North Indian',\n",
       " ' Italian, Continental',\n",
       " ' North Indian, Chinese',\n",
       " ' North Indian, Italian',\n",
       " ' North Indian',\n",
       " ' North Indian',\n",
       " ' North Indian, Mughlai']"
      ]
     },
     "execution_count": 43,
     "metadata": {},
     "output_type": "execute_result"
    }
   ],
   "source": [
    "#cuisines scraping\n",
    "cuisines=[]\n",
    "for i in soup2.find_all('span', class_=\"double-line-ellipsis\"):\n",
    "    cuisines.append(i.text.split(\"|\")[-1])\n",
    "cuisines"
   ]
  },
  {
   "cell_type": "code",
   "execution_count": 45,
   "id": "b0db369d",
   "metadata": {},
   "outputs": [
    {
     "data": {
      "text/plain": [
       "['Connaught Place, Central Delhi',\n",
       " '3CS Mall,Lajpat Nagar - 3, South Delhi',\n",
       " 'Pacific Mall,Tagore Garden, West Delhi',\n",
       " 'The Leela Ambience Convention Hotel,Shahdara, East Delhi',\n",
       " 'Gardens Galleria,Sector 38A, Noida',\n",
       " 'Hilton Garden Inn,Saket, South Delhi',\n",
       " 'Taurus Sarovar Portico,Mahipalpur, South Delhi',\n",
       " 'Indirapuram Habitat Centre,Indirapuram, Ghaziabad',\n",
       " 'Suncity Business Tower,Golf Course Road, Gurgaon']"
      ]
     },
     "execution_count": 45,
     "metadata": {},
     "output_type": "execute_result"
    }
   ],
   "source": [
    "#locations scraping\n",
    "locations=[]\n",
    "for i in soup2.find_all('div', class_=\"restnt-loc ellipsis\"):\n",
    "    locations.append(i.text)\n",
    "    \n",
    "locations"
   ]
  },
  {
   "cell_type": "code",
   "execution_count": 47,
   "id": "902c148a",
   "metadata": {},
   "outputs": [
    {
     "data": {
      "text/plain": [
       "['4.1', '3.9', '3.9', '4.3', '4', '3.9', '3.6', '3.8', '4.3']"
      ]
     },
     "execution_count": 47,
     "metadata": {},
     "output_type": "execute_result"
    }
   ],
   "source": [
    "#ratings scraping\n",
    "ratings=[]\n",
    "for i in soup2.find_all('div', class_=\"restnt-rating rating-4\"):\n",
    "    ratings.append(i.text)\n",
    "    \n",
    "ratings"
   ]
  },
  {
   "cell_type": "code",
   "execution_count": 49,
   "id": "d703b54d",
   "metadata": {},
   "outputs": [
    {
     "data": {
      "text/plain": [
       "['https://im1.dineout.co.in/images/uploads/restaurant/sharpen/8/k/b/p86792-16062953735fbe1f4d3fb7e.jpg?tr=tr:n-medium',\n",
       " 'https://im1.dineout.co.in/images/uploads/restaurant/sharpen/5/p/m/p59633-166088382462ff137009010.jpg?tr=tr:n-medium',\n",
       " 'https://im1.dineout.co.in/images/uploads/restaurant/sharpen/3/j/o/p38113-15959192065f1fcb666130c.jpg?tr=tr:n-medium',\n",
       " 'https://im1.dineout.co.in/images/uploads/restaurant/sharpen/4/p/m/p406-15438184745c04ccea491bc.jpg?tr=tr:n-medium',\n",
       " 'https://im1.dineout.co.in/images/uploads/restaurant/sharpen/7/p/k/p79307-16051787755fad1597f2bf9.jpg?tr=tr:n-medium',\n",
       " 'https://im1.dineout.co.in/images/uploads/restaurant/sharpen/2/v/t/p2687-1482477169585cce712b90f.jpg?tr=tr:n-medium',\n",
       " 'https://im1.dineout.co.in/images/uploads/restaurant/sharpen/5/d/i/p52501-1661855212630de5eceb6d2.jpg?tr=tr:n-medium',\n",
       " 'https://im1.dineout.co.in/images/uploads/restaurant/sharpen/3/n/o/p34822-15599107305cfa594a13c24.jpg?tr=tr:n-medium',\n",
       " 'https://im1.dineout.co.in/images/uploads/restaurant/sharpen/5/y/f/p549-165000147262590640c0afc.jpg?tr=tr:n-medium']"
      ]
     },
     "execution_count": 49,
     "metadata": {},
     "output_type": "execute_result"
    }
   ],
   "source": [
    "#image url scraping\n",
    "img=[]\n",
    "for i in soup2.find_all('img', class_=\"no-img\"):\n",
    "    img.append(i.get('data-src'))\n",
    "    \n",
    "img"
   ]
  },
  {
   "cell_type": "code",
   "execution_count": 50,
   "id": "5c0aaf82",
   "metadata": {},
   "outputs": [
    {
     "data": {
      "text/plain": [
       "<Response [200]>"
      ]
     },
     "execution_count": 50,
     "metadata": {},
     "output_type": "execute_result"
    }
   ],
   "source": [
    "#question no. 10\n",
    "page = requests.get('https://scholar.google.com/citations?view_op=top_venues&hl=en')\n",
    "page"
   ]
  },
  {
   "cell_type": "code",
   "execution_count": 51,
   "id": "fe636228",
   "metadata": {},
   "outputs": [],
   "source": [
    "soup = BeautifulSoup(page.content)"
   ]
  },
  {
   "cell_type": "code",
   "execution_count": 54,
   "id": "6430b866",
   "metadata": {},
   "outputs": [
    {
     "data": {
      "text/plain": [
       "['1.',\n",
       " '2.',\n",
       " '3.',\n",
       " '4.',\n",
       " '5.',\n",
       " '6.',\n",
       " '7.',\n",
       " '8.',\n",
       " '9.',\n",
       " '10.',\n",
       " '11.',\n",
       " '12.',\n",
       " '13.',\n",
       " '14.',\n",
       " '15.',\n",
       " '16.',\n",
       " '17.',\n",
       " '18.',\n",
       " '19.',\n",
       " '20.',\n",
       " '21.',\n",
       " '22.',\n",
       " '23.',\n",
       " '24.',\n",
       " '25.',\n",
       " '26.',\n",
       " '27.',\n",
       " '28.',\n",
       " '29.',\n",
       " '30.',\n",
       " '31.',\n",
       " '32.',\n",
       " '33.',\n",
       " '34.',\n",
       " '35.',\n",
       " '36.',\n",
       " '37.',\n",
       " '38.',\n",
       " '39.',\n",
       " '40.',\n",
       " '41.',\n",
       " '42.',\n",
       " '43.',\n",
       " '44.',\n",
       " '45.',\n",
       " '46.',\n",
       " '47.',\n",
       " '48.',\n",
       " '49.',\n",
       " '50.',\n",
       " '51.',\n",
       " '52.',\n",
       " '53.',\n",
       " '54.',\n",
       " '55.',\n",
       " '56.',\n",
       " '57.',\n",
       " '58.',\n",
       " '59.',\n",
       " '60.',\n",
       " '61.',\n",
       " '62.',\n",
       " '63.',\n",
       " '64.',\n",
       " '65.',\n",
       " '66.',\n",
       " '67.',\n",
       " '68.',\n",
       " '69.',\n",
       " '70.',\n",
       " '71.',\n",
       " '72.',\n",
       " '73.',\n",
       " '74.',\n",
       " '75.',\n",
       " '76.',\n",
       " '77.',\n",
       " '78.',\n",
       " '79.',\n",
       " '80.',\n",
       " '81.',\n",
       " '82.',\n",
       " '83.',\n",
       " '84.',\n",
       " '85.',\n",
       " '86.',\n",
       " '87.',\n",
       " '88.',\n",
       " '89.',\n",
       " '90.',\n",
       " '91.',\n",
       " '92.',\n",
       " '93.',\n",
       " '94.',\n",
       " '95.',\n",
       " '96.',\n",
       " '97.',\n",
       " '98.',\n",
       " '99.',\n",
       " '100.']"
      ]
     },
     "execution_count": 54,
     "metadata": {},
     "output_type": "execute_result"
    }
   ],
   "source": [
    "#rank scraping\n",
    "rank=[]\n",
    "for j in soup.find_all('td', class_=\"gsc_mvt_p\"):\n",
    "    rank.append(j.text)\n",
    "rank"
   ]
  },
  {
   "cell_type": "code",
   "execution_count": 55,
   "id": "7f3d9c89",
   "metadata": {},
   "outputs": [
    {
     "data": {
      "text/plain": [
       "['Nature',\n",
       " 'The New England Journal of Medicine',\n",
       " 'Science',\n",
       " 'IEEE/CVF Conference on Computer Vision and Pattern Recognition',\n",
       " 'The Lancet',\n",
       " 'Advanced Materials',\n",
       " 'Nature Communications',\n",
       " 'Cell',\n",
       " 'International Conference on Learning Representations',\n",
       " 'Neural Information Processing Systems',\n",
       " 'JAMA',\n",
       " 'Chemical Reviews',\n",
       " 'Proceedings of the National Academy of Sciences',\n",
       " 'Angewandte Chemie',\n",
       " 'Chemical Society Reviews',\n",
       " 'Journal of the American Chemical Society',\n",
       " 'IEEE/CVF International Conference on Computer Vision',\n",
       " 'Nucleic Acids Research',\n",
       " 'International Conference on Machine Learning',\n",
       " 'Nature Medicine',\n",
       " 'Renewable and Sustainable Energy Reviews',\n",
       " 'Science of The Total Environment',\n",
       " 'Advanced Energy Materials',\n",
       " 'Journal of Clinical Oncology',\n",
       " 'ACS Nano',\n",
       " 'Journal of Cleaner Production',\n",
       " 'Advanced Functional Materials',\n",
       " 'Physical Review Letters',\n",
       " 'Scientific Reports',\n",
       " 'The Lancet Oncology',\n",
       " 'Energy & Environmental Science',\n",
       " 'IEEE Access',\n",
       " 'PLoS ONE',\n",
       " 'Science Advances',\n",
       " 'Journal of the American College of Cardiology',\n",
       " 'Applied Catalysis B: Environmental',\n",
       " 'Nature Genetics',\n",
       " 'BMJ',\n",
       " 'Circulation',\n",
       " 'European Conference on Computer Vision',\n",
       " 'International Journal of Molecular Sciences',\n",
       " 'Nature Materials',\n",
       " 'Chemical engineering journal',\n",
       " 'AAAI Conference on Artificial Intelligence',\n",
       " 'Journal of Materials Chemistry A',\n",
       " 'ACS Applied Materials & Interfaces',\n",
       " 'Nature Biotechnology',\n",
       " 'The Lancet Infectious Diseases',\n",
       " 'Frontiers in Immunology',\n",
       " 'Applied Energy',\n",
       " 'Nano Energy',\n",
       " 'Nature Energy',\n",
       " 'Meeting of the Association for Computational Linguistics (ACL)',\n",
       " 'The Astrophysical Journal',\n",
       " 'Gastroenterology',\n",
       " 'Nature Methods',\n",
       " 'IEEE Transactions on Pattern Analysis and Machine Intelligence',\n",
       " 'Cochrane Database of Systematic Reviews',\n",
       " 'Blood',\n",
       " 'Neuron',\n",
       " 'Nano Letters',\n",
       " 'Morbidity and Mortality Weekly Report',\n",
       " 'European Heart Journal',\n",
       " 'Nature Nanotechnology',\n",
       " 'ACS Catalysis',\n",
       " 'Nature Neuroscience',\n",
       " 'American Economic Review',\n",
       " 'Journal of High Energy Physics',\n",
       " 'IEEE Communications Surveys & Tutorials',\n",
       " 'Annals of Oncology',\n",
       " 'Nutrients',\n",
       " 'Accounts of Chemical Research',\n",
       " 'Immunity',\n",
       " 'Environmental Science & Technology',\n",
       " 'Nature Reviews. Molecular Cell Biology',\n",
       " 'Gut',\n",
       " 'Physical Review D',\n",
       " 'ACS Energy Letters',\n",
       " 'Monthly Notices of the Royal Astronomical Society',\n",
       " 'Conference on Empirical Methods in Natural Language Processing (EMNLP)',\n",
       " 'Clinical Infectious Diseases',\n",
       " 'Cell Metabolism',\n",
       " 'Nature Reviews Immunology',\n",
       " 'Joule',\n",
       " 'Nature Photonics',\n",
       " 'International Journal of Environmental Research and Public Health',\n",
       " 'Environmental Pollution',\n",
       " 'Computers in Human Behavior',\n",
       " 'Frontiers in Microbiology',\n",
       " 'Nature Physics',\n",
       " 'Small',\n",
       " 'Cell Reports',\n",
       " 'Molecular Cell',\n",
       " 'Clinical Cancer Research',\n",
       " 'Bioresource Technology',\n",
       " 'Journal of Business Research',\n",
       " 'Molecular Cancer',\n",
       " 'Sensors',\n",
       " 'Nature Climate Change',\n",
       " 'IEEE Internet of Things Journal']"
      ]
     },
     "execution_count": 55,
     "metadata": {},
     "output_type": "execute_result"
    }
   ],
   "source": [
    "#publication scraping\n",
    "publication=[]\n",
    "for i in soup.find_all('td', class_=\"gsc_mvt_t\"):\n",
    "    publication.append(i.text)\n",
    "    \n",
    "publication"
   ]
  },
  {
   "cell_type": "code",
   "execution_count": 56,
   "id": "b5858041",
   "metadata": {},
   "outputs": [
    {
     "data": {
      "text/plain": [
       "['444',\n",
       " '432',\n",
       " '401',\n",
       " '389',\n",
       " '354',\n",
       " '312',\n",
       " '307',\n",
       " '300',\n",
       " '286',\n",
       " '278',\n",
       " '267',\n",
       " '265',\n",
       " '256',\n",
       " '245',\n",
       " '244',\n",
       " '242',\n",
       " '239',\n",
       " '238',\n",
       " '237',\n",
       " '235',\n",
       " '227',\n",
       " '225',\n",
       " '220',\n",
       " '213',\n",
       " '211',\n",
       " '211',\n",
       " '210',\n",
       " '207',\n",
       " '206',\n",
       " '202',\n",
       " '202',\n",
       " '200',\n",
       " '198',\n",
       " '197',\n",
       " '195',\n",
       " '192',\n",
       " '191',\n",
       " '190',\n",
       " '189',\n",
       " '186',\n",
       " '183',\n",
       " '181',\n",
       " '181',\n",
       " '180',\n",
       " '178',\n",
       " '177',\n",
       " '175',\n",
       " '173',\n",
       " '173',\n",
       " '173',\n",
       " '172',\n",
       " '170',\n",
       " '169',\n",
       " '167',\n",
       " '166',\n",
       " '165',\n",
       " '165',\n",
       " '165',\n",
       " '165',\n",
       " '164',\n",
       " '164',\n",
       " '163',\n",
       " '163',\n",
       " '163',\n",
       " '163',\n",
       " '162',\n",
       " '160',\n",
       " '160',\n",
       " '159',\n",
       " '159',\n",
       " '159',\n",
       " '159',\n",
       " '158',\n",
       " '158',\n",
       " '155',\n",
       " '155',\n",
       " '155',\n",
       " '155',\n",
       " '155',\n",
       " '154',\n",
       " '153',\n",
       " '153',\n",
       " '152',\n",
       " '152',\n",
       " '152',\n",
       " '152',\n",
       " '152',\n",
       " '152',\n",
       " '151',\n",
       " '151',\n",
       " '150',\n",
       " '149',\n",
       " '149',\n",
       " '146',\n",
       " '146',\n",
       " '145',\n",
       " '145',\n",
       " '145',\n",
       " '144',\n",
       " '144']"
      ]
     },
     "execution_count": 56,
     "metadata": {},
     "output_type": "execute_result"
    }
   ],
   "source": [
    "#h5 index scraping\n",
    "h5_index=[]\n",
    "for i in soup.find_all('a', class_=\"gs_ibl gsc_mp_anchor\"):\n",
    "    h5_index.append(i.text)\n",
    "    \n",
    "h5_index"
   ]
  },
  {
   "cell_type": "code",
   "execution_count": 57,
   "id": "55dfe8da",
   "metadata": {},
   "outputs": [
    {
     "data": {
      "text/plain": [
       "['667',\n",
       " '780',\n",
       " '614',\n",
       " '627',\n",
       " '635',\n",
       " '418',\n",
       " '428',\n",
       " '505',\n",
       " '533',\n",
       " '436',\n",
       " '425',\n",
       " '444',\n",
       " '364',\n",
       " '332',\n",
       " '386',\n",
       " '344',\n",
       " '415',\n",
       " '550',\n",
       " '421',\n",
       " '389',\n",
       " '324',\n",
       " '311',\n",
       " '300',\n",
       " '315',\n",
       " '277',\n",
       " '273',\n",
       " '280',\n",
       " '294',\n",
       " '274',\n",
       " '329',\n",
       " '290',\n",
       " '303',\n",
       " '278',\n",
       " '294',\n",
       " '276',\n",
       " '246',\n",
       " '297',\n",
       " '307',\n",
       " '301',\n",
       " '321',\n",
       " '253',\n",
       " '265',\n",
       " '224',\n",
       " '296',\n",
       " '220',\n",
       " '223',\n",
       " '315',\n",
       " '296',\n",
       " '228',\n",
       " '217',\n",
       " '232',\n",
       " '314',\n",
       " '304',\n",
       " '234',\n",
       " '254',\n",
       " '296',\n",
       " '293',\n",
       " '243',\n",
       " '229',\n",
       " '231',\n",
       " '207',\n",
       " '302',\n",
       " '265',\n",
       " '264',\n",
       " '220',\n",
       " '248',\n",
       " '263',\n",
       " '220',\n",
       " '304',\n",
       " '243',\n",
       " '214',\n",
       " '211',\n",
       " '242',\n",
       " '214',\n",
       " '340',\n",
       " '235',\n",
       " '217',\n",
       " '212',\n",
       " '194',\n",
       " '249',\n",
       " '278',\n",
       " '211',\n",
       " '292',\n",
       " '233',\n",
       " '228',\n",
       " '225',\n",
       " '222',\n",
       " '214',\n",
       " '225',\n",
       " '222',\n",
       " '196',\n",
       " '205',\n",
       " '202',\n",
       " '201',\n",
       " '190',\n",
       " '233',\n",
       " '209',\n",
       " '201',\n",
       " '228',\n",
       " '212']"
      ]
     },
     "execution_count": 57,
     "metadata": {},
     "output_type": "execute_result"
    }
   ],
   "source": [
    "#h5-median scraping\n",
    "h5_median=[]\n",
    "for i in soup.find_all('span', class_=\"gs_ibl gsc_mp_anchor\"):\n",
    "    h5_median.append(i.text)\n",
    "    \n",
    "h5_median"
   ]
  },
  {
   "cell_type": "code",
   "execution_count": null,
   "id": "547adad2",
   "metadata": {},
   "outputs": [],
   "source": []
  }
 ],
 "metadata": {
  "kernelspec": {
   "display_name": "Python 3 (ipykernel)",
   "language": "python",
   "name": "python3"
  },
  "language_info": {
   "codemirror_mode": {
    "name": "ipython",
    "version": 3
   },
   "file_extension": ".py",
   "mimetype": "text/x-python",
   "name": "python",
   "nbconvert_exporter": "python",
   "pygments_lexer": "ipython3",
   "version": "3.9.12"
  }
 },
 "nbformat": 4,
 "nbformat_minor": 5
}
