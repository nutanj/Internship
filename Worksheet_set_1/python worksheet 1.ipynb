{
 "cells": [
  {
   "cell_type": "code",
   "execution_count": 1,
   "id": "15f29f1f",
   "metadata": {},
   "outputs": [],
   "source": [
    "#11.Factorial of a number\n",
    "\n",
    "def factorial(n):\n",
    "    if n<0:\n",
    "        return 0\n",
    "    elif n==0 or n==1:\n",
    "        return 1\n",
    "    else:\n",
    "        fact=1\n",
    "        while(n>1):\n",
    "            fact=fact*n\n",
    "            n=n-1\n",
    "        return fact"
   ]
  },
  {
   "cell_type": "code",
   "execution_count": 2,
   "id": "d7e94dba",
   "metadata": {},
   "outputs": [
    {
     "name": "stdout",
     "output_type": "stream",
     "text": [
      "enter the number7\n",
      "factorial of 7 is 5040\n"
     ]
    }
   ],
   "source": [
    "n=int(input('enter the number'))\n",
    "print('factorial of', n, 'is',factorial(n))"
   ]
  },
  {
   "cell_type": "code",
   "execution_count": 3,
   "id": "17d3f94e",
   "metadata": {},
   "outputs": [],
   "source": [
    "#12.check prime or composite number"
   ]
  },
  {
   "cell_type": "code",
   "execution_count": 4,
   "id": "4120b064",
   "metadata": {},
   "outputs": [
    {
     "name": "stdout",
     "output_type": "stream",
     "text": [
      "Enter any number : 76\n",
      "76 is a composite number\n"
     ]
    }
   ],
   "source": [
    "num = int(input(\"Enter any number : \"))\n",
    "if num > 1:\n",
    "    for i in range(2, num):\n",
    "        if (num % i) == 0:\n",
    "            print(num, \"is a composite number\")\n",
    "            break\n",
    "    else:\n",
    "        print(num, \"is a prime number\")\n",
    "else:\n",
    "    print(num, \"is a neither prime NOR composite number\")"
   ]
  },
  {
   "cell_type": "code",
   "execution_count": 5,
   "id": "26a6acfa",
   "metadata": {},
   "outputs": [],
   "source": [
    "#13.string is palindrome or not\n",
    "\n",
    "def ispalindrome(s):\n",
    "    if s == s[::-1]:\n",
    "        print('palindrome')\n",
    "    else:\n",
    "        print('not a palindrome')"
   ]
  },
  {
   "cell_type": "code",
   "execution_count": 6,
   "id": "98fed378",
   "metadata": {},
   "outputs": [
    {
     "name": "stdout",
     "output_type": "stream",
     "text": [
      "enter any stringwelcome\n",
      "not a palindrome\n"
     ]
    }
   ],
   "source": [
    "str=input('enter any string')\n",
    "ispalindrome(str)"
   ]
  },
  {
   "cell_type": "code",
   "execution_count": 7,
   "id": "f8be1e6b",
   "metadata": {},
   "outputs": [
    {
     "name": "stdout",
     "output_type": "stream",
     "text": [
      "Give the side you want to solve for (p, b, or h): p\n",
      "Give side b: 4\n",
      "Give hypotenuse h: 5\n",
      "The length of the side p is  3.0\n"
     ]
    }
   ],
   "source": [
    "#14.calculation of sides of a right angled triangle\n",
    "\n",
    "import math\n",
    "side = input(\"Give the side you want to solve for (p, b, or h): \")\n",
    "if side == \"p\":\n",
    "    b = float(input(\"Give side b: \"))\n",
    "    h = float(input(\"Give hypotenuse h: \"))\n",
    "    p = math.sqrt(h ** 2 - b ** 2)\n",
    "    print(\"The length of the side p is \", p)\n",
    "    \n",
    "elif side == \"b\":\n",
    "    p = float(input(\"Give side p: \"))\n",
    "    h = float(input(\"Give hypotenuse h: \"))\n",
    "    b = math.sqrt(h ** 2 - p ** 2)\n",
    "    print(\"The length of the side b is\", b)\n",
    "elif side == \"h\":\n",
    "    p = float(input(\"Give side p: \"))\n",
    "    b = float(input(\"Give side b: \"))\n",
    "    h = math.sqrt(p ** 2 + b ** 2)\n",
    "    print(\"The length of the hypotenuse h is\", h)\n",
    "else:\n",
    "    print(\"Invalid input\")"
   ]
  },
  {
   "cell_type": "code",
   "execution_count": 8,
   "id": "6badbd9c",
   "metadata": {},
   "outputs": [
    {
     "name": "stdout",
     "output_type": "stream",
     "text": [
      "enter the string potato\n",
      "frequency of each characters in the given string is:  Counter({'o': 2, 't': 2, 'p': 1, 'a': 1})\n"
     ]
    }
   ],
   "source": [
    "#15.\n",
    "\n",
    "from collections import Counter\n",
    "str=input('enter the string ')\n",
    "fq=Counter(str)\n",
    "print('frequency of each characters in the given string is: ',fq)"
   ]
  },
  {
   "cell_type": "code",
   "execution_count": null,
   "id": "de9816f0",
   "metadata": {},
   "outputs": [],
   "source": []
  }
 ],
 "metadata": {
  "kernelspec": {
   "display_name": "Python 3 (ipykernel)",
   "language": "python",
   "name": "python3"
  },
  "language_info": {
   "codemirror_mode": {
    "name": "ipython",
    "version": 3
   },
   "file_extension": ".py",
   "mimetype": "text/x-python",
   "name": "python",
   "nbconvert_exporter": "python",
   "pygments_lexer": "ipython3",
   "version": "3.9.12"
  }
 },
 "nbformat": 4,
 "nbformat_minor": 5
}
